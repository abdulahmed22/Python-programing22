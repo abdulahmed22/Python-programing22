{
 "cells": [
  {
   "cell_type": "markdown",
   "metadata": {},
   "source": [
    "# Exercise session 1"
   ]
  },
  {
   "cell_type": "markdown",
   "metadata": {},
   "source": [
    "## Exercise 00-3\n",
    "\n",
    "Formula: \n",
    "$$accuracy = \\frac{TP+TN}{TP+TN+FP+FN}$$ "
   ]
  },
  {
   "cell_type": "code",
   "execution_count": 1,
   "metadata": {},
   "outputs": [
    {
     "name": "stdout",
     "output_type": "stream",
     "text": [
      "Accuracy of this fire model: 0.987\n"
     ]
    }
   ],
   "source": [
    "\n",
    "\n",
    "true_positive = 2\n",
    "false_positive = 2\n",
    "false_negative = 11\n",
    "true_negative = 985\n",
    "\n",
    "accuracy = (true_positive+true_negative)/(true_positive+true_negative+false_positive+false_negative)\n",
    "\n",
    "print(f\"Accuracy of this fire model: {accuracy}\")\n",
    "\n",
    "# is this a good model?"
   ]
  },
  {
   "cell_type": "markdown",
   "metadata": {},
   "source": [
    "## Exercise 00-5\n",
    "\n",
    "Formula \n",
    "$$d = \\sqrt{(x_1-x_2)^2 + (y_1-y_2)^2}$$"
   ]
  },
  {
   "cell_type": "code",
   "execution_count": 9,
   "metadata": {},
   "outputs": [
    {
     "name": "stdout",
     "output_type": "stream",
     "text": [
      "Distance between [3, 5] and [-2, 4] is 5.10 distance units\n"
     ]
    }
   ],
   "source": [
    "import math\n",
    "\n",
    "point1 = [3,5]\n",
    "point2 = [-2,4]\n",
    "\n",
    "distance = math.sqrt((point1[0]-point2[0])**2 + (point1[1]-point2[1])**2)\n",
    "print(f\"Distance between {point1} and {point2} is {distance:.2f} distance units\")"
   ]
  },
  {
   "cell_type": "markdown",
   "metadata": {},
   "source": [
    "## 1-3\n",
    "\n",
    "Valid angle:\n",
    "- positive\n",
    "- $\\alpha + \\beta + \\gamma = 180$\n",
    "\n",
    "Check if one angle is 90 degrees"
   ]
  },
  {
   "cell_type": "code",
   "execution_count": 22,
   "metadata": {},
   "outputs": [
    {
     "name": "stdout",
     "output_type": "stream",
     "text": [
      "['30', '80', '70']\n"
     ]
    }
   ],
   "source": [
    "angles = input(\"Ange tre vinklar separerade med mellanslag: \")\n",
    "\n",
    "#angles = \"30 60 90\"\n",
    "print(angles.split())\n",
    "\n",
    "# angles.split() -> gives a list of strings\n",
    "# angle -> gets value of each list item (strings)\n",
    "# float(angle) -> type converts each string element to decimal number\n",
    "angles = [float(angle) for angle in angles.split()]\n",
    "\n",
    "if sum(angles) != 180:\n",
    "    print(\"Vinkelsumman ej 180\")\n",
    "\n",
    "for angle in angles:\n",
    "    if not 0 <= angle <= 180:\n",
    "        print(\"Vinkeln är inte mellan 0 och 180\")\n",
    "\n",
    "    if angle == 90:\n",
    "        print(\"Rätvinklig\")"
   ]
  }
 ],
 "metadata": {
  "kernelspec": {
   "display_name": "Python 3.9.6 ('Python-course-AI22-FPwBLMbm')",
   "language": "python",
   "name": "python3"
  },
  "language_info": {
   "codemirror_mode": {
    "name": "ipython",
    "version": 3
   },
   "file_extension": ".py",
   "mimetype": "text/x-python",
   "name": "python",
   "nbconvert_exporter": "python",
   "pygments_lexer": "ipython3",
   "version": "3.9.6"
  },
  "orig_nbformat": 4,
  "vscode": {
   "interpreter": {
    "hash": "3b136723b0d4708e16bf623335cc8688085bd3f1313316a001291a7f1d2024db"
   }
  }
 },
 "nbformat": 4,
 "nbformat_minor": 2
}
