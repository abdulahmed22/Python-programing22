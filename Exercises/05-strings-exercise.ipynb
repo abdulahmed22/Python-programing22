{
 "cells": [
  {
   "cell_type": "markdown",
   "metadata": {},
   "source": [
    "<a href=\"https://colab.research.google.com/github/kokchun/Python-course-AI22/blob/main/Exercises/05-strings-exercise.ipynb\" target=\"_parent\"><img align=\"left\" src=\"https://colab.research.google.com/assets/colab-badge.svg\" alt=\"Open In Colab\"/></a> &nbsp; to see hints and answers."
   ]
  },
  {
   "cell_type": "markdown",
   "metadata": {},
   "source": [
    "# strings exercises\n",
    "\n",
    "---\n",
    "These are introductory exercises in Python with focus in **strings**.\n",
    "\n",
    "<p class = \"alert alert-info\" role=\"alert\"><b>Remember</b> to use <b>descriptive variable names</b> in order to get readable code </p>\n",
    "\n",
    "<p class = \"alert alert-info\" role=\"alert\"><b>Remember</b> to format your answers in a neat way using <b>f-strings</b>\n",
    "\n",
    "<p class = \"alert alert-info\" role=\"alert\"><b>Remember</b> to format your input questions in a pedagogical way to guide the user\n",
    "\n",
    "The number of stars (\\*), (\\*\\*), (\\*\\*\\*) denotes the difficulty level of the task\n",
    "\n",
    "---"
   ]
  },
  {
   "cell_type": "markdown",
   "metadata": {},
   "source": [
    "## 1. Counting letters (*)\n",
    "\n",
    "Let the user input a word: \n",
    "\n",
    "&nbsp; a) &nbsp; print out the number of letters in the word. (*) \n",
    "  \n",
    "&nbsp; b) &nbsp; print out the number of **uppercase** and **lowercase** letters of the word (*)   \n"
   ]
  },
  {
   "cell_type": "code",
   "execution_count": 4,
   "metadata": {},
   "outputs": [
    {
     "name": "stdout",
     "output_type": "stream",
     "text": [
      "The sjjs has 4 letters\n",
      "The SJJS in uppercase and the sjjs in lowercase\n"
     ]
    }
   ],
   "source": [
    "word = input(\"Enter a word: \")\n",
    "\n",
    "print(f\"The {word} has {len(word)} letters\")\n",
    "print(f\"The {word.upper()} in uppercase and the {word.lower()} in lowercase\")"
   ]
  },
  {
   "cell_type": "markdown",
   "metadata": {},
   "source": [
    "---\n",
    "## 2. Counting words (*)\n",
    "\n",
    "Count the number of words in this sentence: \"A picture says more than a thousand words, a matematical formula says more than a thousand pictures.\" (*) \n",
    "\n",
    "<details>\n",
    "\n",
    "<summary>Answer</summary>\n",
    "\n",
    "```\n",
    "There are 17 words in that sentence\n",
    "```"
   ]
  },
  {
   "cell_type": "code",
   "execution_count": 14,
   "metadata": {},
   "outputs": [
    {
     "name": "stdout",
     "output_type": "stream",
     "text": [
      " The number of words in the sentence is 17\n"
     ]
    }
   ],
   "source": [
    "sentence = \"A picture says more than a thousand words, a matematical formula says more than a thousand pictures.\"\n",
    "words = sentence.split(\" \")\n",
    "\n",
    "print(f\" The number of words in the sentence is {len(words)}\")\n",
    "\n",
    "\n",
    "\n",
    "\n",
    "\n",
    "\n"
   ]
  },
  {
   "cell_type": "markdown",
   "metadata": {},
   "source": [
    "---\n",
    "## 3. Palindrome (*)\n",
    "\n",
    "A palindrome is a sequence of characters that is the same, when read forward as backwards (ignoring spaces). For example:\n",
    "- \"Anna\" is a palindrome\n",
    "- \"Ni talar bra latin\"\n",
    "- bjkjb \n",
    "\n",
    "Let the user input a sequence of characters and check if it is a palindrome. (*)"
   ]
  },
  {
   "cell_type": "code",
   "execution_count": 26,
   "metadata": {},
   "outputs": [
    {
     "name": "stdout",
     "output_type": "stream",
     "text": [
      "No, hjk is not palindrome\n"
     ]
    }
   ],
   "source": [
    "word = input(\"Enter a word to check if palindrome: \").strip()\n",
    "low = 0\n",
    "high = len(word) - 1\n",
    "w = \"\"\n",
    "for i in word:\n",
    "    w = i + w\n",
    " \n",
    "if (word == w):\n",
    "    print(f\"Yes, {word} is palindrome\")\n",
    "else:\n",
    "    print(f\"No, {word} is not palindrome\")\n",
    "   \n",
    "\n",
    "\n",
    "    \n"
   ]
  },
  {
   "cell_type": "markdown",
   "metadata": {},
   "source": [
    "---\n",
    "## 4. Vowels (**)\n",
    "\n",
    "Count the number of vowels in this sentence: \"Pure mathematics is, in its way, the poetry of logical ideas\"\n",
    "\n",
    "<details>\n",
    "\n",
    "<summary>Answer</summary>\n",
    "\n",
    "```\n",
    "\n",
    "There are 22 vowels in this sentence\n",
    "\n",
    "```\n",
    "</details>"
   ]
  },
  {
   "cell_type": "code",
   "execution_count": 68,
   "metadata": {},
   "outputs": [
    {
     "name": "stdout",
     "output_type": "stream",
     "text": [
      "a 5\n",
      "e 5\n",
      "i 6\n",
      "o 3\n",
      "u 1\n",
      "There are 20 vowels in the sentence\n"
     ]
    }
   ],
   "source": [
    "vowels = \"aeiou\"\n",
    "sentence = \"Pure mathematics is, in its way, the poetry of logical ideas\"\n",
    "count = 0\n",
    "\n",
    "for v in vowels:\n",
    "   print(v,sentence.lower().count(v))\n",
    "for v in sentence:\n",
    "    if v == \"a\" or v == \"e\" or v == \"i\" or v == \"o\" or v == \"u\": ## if i add y as a vowel then there will be 22 vowels\n",
    "            count += 1\n",
    "\n",
    "print(f\"There are {count} vowels in the sentence\")\n",
    "\n",
    "\n",
    "\n"
   ]
  },
  {
   "cell_type": "markdown",
   "metadata": {},
   "source": [
    "---\n",
    "## 5. Encryption (**)\n",
    "\n",
    "Let the user input a word and: \n",
    "\n",
    "&nbsp; a) &nbsp; encrypt the message by replacing each letter with the next letter. If the letter is in the end of the alphabet, use the first letter instead. \n",
    "\n",
    "e.g. in Swedish: \"höst\" $\\rightarrow$ \"iatu\"\n",
    "\n",
    "&nbsp; b) &nbsp; decrypt the message\n",
    "\n",
    "&nbsp; c) &nbsp; let the user choose either encryption or decryption."
   ]
  },
  {
   "cell_type": "code",
   "execution_count": 41,
   "metadata": {},
   "outputs": [
    {
     "name": "stdout",
     "output_type": "stream",
     "text": [
      "The decoded text is word\n"
     ]
    }
   ],
   "source": [
    "##A\n",
    "alphabet = ['a', 'b', 'c', 'd', 'e', 'f', 'g', 'h', 'i', 'j', 'k', \n",
    "'l', 'm', 'n', 'o', 'p', 'q', 'r', 's', 't', 'u', 'v', 'w', 'x', 'y'\n",
    ", 'z', 'å', 'ä', 'ö', 'a', 'b', 'c', 'd', 'e', 'f', 'g', 'h', 'i', 'j', 'k', 'l', 'm',\n",
    " 'n', 'o', 'p', 'q', 'r', 's', 't', 'u', 'v', 'w', 'x', 'y', 'z', 'å', 'ä', 'ö']\n",
    "\n",
    "direction = input(\"Type 'encode' to encrypt, type 'decode' to decrypt:\\n\")\n",
    "text = input(\"Type your message:\\n\").lower()\n",
    "shift = int(input(\"Type the shift number:\\n\"))\n",
    "cipher_text = \"\"\n",
    "if direction == \"decode\":\n",
    "      shift *= -1\n",
    "for letter in text:\n",
    "    position = alphabet.index(letter)\n",
    "    new_position = position + shift\n",
    "    new_letter = alphabet[new_position]\n",
    "    cipher_text += new_letter\n",
    "print(f\"The {direction}d text is {cipher_text}\")"
   ]
  },
  {
   "cell_type": "markdown",
   "metadata": {},
   "source": [
    "---\n",
    "\n",
    "Kokchun Giang\n",
    "\n",
    "[LinkedIn][linkedIn_kokchun]\n",
    "\n",
    "[GitHub portfolio][github_portfolio]\n",
    "\n",
    "[linkedIn_kokchun]: https://www.linkedin.com/in/kokchungiang/\n",
    "[github_portfolio]: https://github.com/kokchun/Portfolio-Kokchun-Giang\n",
    "\n",
    "---"
   ]
  }
 ],
 "metadata": {
  "kernelspec": {
   "display_name": "Python 3.9.13 64-bit",
   "language": "python",
   "name": "python3"
  },
  "language_info": {
   "codemirror_mode": {
    "name": "ipython",
    "version": 3
   },
   "file_extension": ".py",
   "mimetype": "text/x-python",
   "name": "python",
   "nbconvert_exporter": "python",
   "pygments_lexer": "ipython3",
   "version": "3.9.13"
  },
  "orig_nbformat": 4,
  "vscode": {
   "interpreter": {
    "hash": "588d5def40dfdb8a9be623189245e02bbfcf8922182859b9395601ff8c0768a1"
   }
  }
 },
 "nbformat": 4,
 "nbformat_minor": 2
}
