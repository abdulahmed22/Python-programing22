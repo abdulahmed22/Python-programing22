{
 "cells": [
  {
   "cell_type": "code",
   "execution_count": null,
   "metadata": {},
   "outputs": [],
   "source": [
    "from geometricShapes import geometry_shapes\n",
    "from geometricShapes import Circle\n",
    "from geometricShapes import Rectangle\n",
    "\n",
    "cirkel1 = Circle(x=0,y=0, radius=1) # enhetscirkel\n",
    "cirkel2 = Circle(x=1,y=1, radius=1)\n",
    "\n",
    "\n",
    "print(cirkel1.inside_circle(0.5, 0.5))\n",
    "cirkel1.translate(5,5)\n",
    "print(cirkel1.inside_circle(0.5, 0.5))\n",
    "rektangel = Rectangle(x=0,y=0,length=1, width=1)\n",
    "print(cirkel2==rektangel) \n"
   ]
  }
 ],
 "metadata": {
  "kernelspec": {
   "display_name": "Python 3.9.13 64-bit",
   "language": "python",
   "name": "python3"
  },
  "language_info": {
   "codemirror_mode": {
    "name": "ipython",
    "version": 3
   },
   "file_extension": ".py",
   "mimetype": "text/x-python",
   "name": "python",
   "nbconvert_exporter": "python",
   "pygments_lexer": "ipython3",
   "version": "3.9.13"
  },
  "orig_nbformat": 4,
  "vscode": {
   "interpreter": {
    "hash": "588d5def40dfdb8a9be623189245e02bbfcf8922182859b9395601ff8c0768a1"
   }
  }
 },
 "nbformat": 4,
 "nbformat_minor": 2
}
