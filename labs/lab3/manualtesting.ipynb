{
 "cells": [
  {
   "cell_type": "code",
   "execution_count": 1,
   "metadata": {},
   "outputs": [
    {
     "name": "stdout",
     "output_type": "stream",
     "text": [
      "True\n",
      "False\n",
      "The geometric shape has its center at (0,0)  with a radius: 1\n",
      "The geometric shape has its center at (1,1)  with a radius: 1\n",
      "True\n",
      "False\n",
      "3.141592653589793\n",
      "6.283185307179586\n"
     ]
    },
    {
     "ename": "ValueError",
     "evalue": "Only values of x and y which are an int or a float",
     "output_type": "error",
     "traceback": [
      "\u001b[1;31m---------------------------------------------------------------------------\u001b[0m",
      "\u001b[1;31mValueError\u001b[0m                                Traceback (most recent call last)",
      "Cell \u001b[1;32mIn [1], line 22\u001b[0m\n\u001b[0;32m     20\u001b[0m \u001b[38;5;28mprint\u001b[39m(cirkel1\u001b[38;5;241m.\u001b[39mgetArea())\n\u001b[0;32m     21\u001b[0m \u001b[38;5;28mprint\u001b[39m(cirkel1\u001b[38;5;241m.\u001b[39mgetPerimeter())\n\u001b[1;32m---> 22\u001b[0m \u001b[43mcirkel1\u001b[49m\u001b[38;5;241;43m.\u001b[39;49m\u001b[43mtranslate\u001b[49m\u001b[43m(\u001b[49m\u001b[38;5;124;43m\"\u001b[39;49m\u001b[38;5;124;43mTRE\u001b[39;49m\u001b[38;5;124;43m\"\u001b[39;49m\u001b[43m,\u001b[49m\u001b[38;5;241;43m5\u001b[39;49m\u001b[43m)\u001b[49m\n",
      "File \u001b[1;32mc:\\Users\\abdul\\OneDrive\\Documents\\GitHub\\Python-programing22\\labs\\lab3\\geometricShapes.py:39\u001b[0m, in \u001b[0;36mgeometry_shapes.translate\u001b[1;34m(self, new_x, new_y)\u001b[0m\n\u001b[0;32m     37\u001b[0m \u001b[39mdef\u001b[39;00m \u001b[39mtranslate\u001b[39m(\u001b[39mself\u001b[39m, new_x:\u001b[39mfloat\u001b[39m, new_y:\u001b[39mfloat\u001b[39m) \u001b[39m-\u001b[39m\u001b[39m>\u001b[39m \u001b[39mNone\u001b[39;00m:\n\u001b[0;32m     38\u001b[0m     \u001b[39mif\u001b[39;00m \u001b[39mnot\u001b[39;00m \u001b[39misinstance\u001b[39m(new_x,(\u001b[39mint\u001b[39m,\u001b[39mfloat\u001b[39m)) \u001b[39mor\u001b[39;00m \u001b[39mnot\u001b[39;00m \u001b[39misinstance\u001b[39m(new_y, (\u001b[39mint\u001b[39m,\u001b[39mfloat\u001b[39m)):\n\u001b[1;32m---> 39\u001b[0m         \u001b[39mraise\u001b[39;00m \u001b[39mValueError\u001b[39;00m(\u001b[39m\"\u001b[39m\u001b[39mOnly values of x and y which are an int or a float\u001b[39m\u001b[39m\"\u001b[39m)\n\u001b[0;32m     40\u001b[0m     \u001b[39mif\u001b[39;00m new_x \u001b[39m<\u001b[39m\u001b[39m=\u001b[39m \u001b[39m0\u001b[39m \u001b[39mor\u001b[39;00m new_y \u001b[39m<\u001b[39m\u001b[39m=\u001b[39m \u001b[39m0\u001b[39m:\n\u001b[0;32m     41\u001b[0m         \u001b[39mraise\u001b[39;00m \u001b[39mValueError\u001b[39;00m(\u001b[39m\"\u001b[39m\u001b[39mValues have to be greater than 0\u001b[39m\u001b[39m\"\u001b[39m)\n",
      "\u001b[1;31mValueError\u001b[0m: Only values of x and y which are an int or a float"
     ]
    }
   ],
   "source": [
    "from geometricShapes import geometry_shapes\n",
    "from geometricShapes import Circle\n",
    "from geometricShapes import Rectangle\n",
    "from geometricShapes import Cube\n",
    "from geometricShapes import Sphere\n",
    "\n",
    "cirkel1 = Circle(x=0,y=0, radius=1) # enhetscirkel\n",
    "cirkel2 = Circle(x=1,y=1, radius=1)\n",
    "rektangel = Rectangle(x=0,y=0,length=1, width=1)\n",
    "\n",
    "print(cirkel1==cirkel2) # True\n",
    "print(cirkel2==rektangel) # False\n",
    "\n",
    "print(repr(cirkel1))\n",
    "print(repr(cirkel2))\n",
    "\n",
    "print(cirkel1.inside_circle(0.5, 0.5)) # True\n",
    "cirkel1.translate(5,5)\n",
    "print(cirkel1.inside_circle(0.5, 0.5)) # False\n",
    "print(cirkel1.getArea())\n",
    "print(cirkel1.getPerimeter())\n",
    "cirkel1.translate(\"TRE\",5) # ge ValueError med lämplig kommentar \n",
    "\n",
    "\n"
   ]
  },
  {
   "cell_type": "code",
   "execution_count": null,
   "metadata": {},
   "outputs": [
    {
     "name": "stdout",
     "output_type": "stream",
     "text": [
      "The geometric shape has its center at (0,0) with a length: 1, a width of: 1\n",
      "The geometric shape has its center at (1,1) with a length: 1, a width of: 1\n",
      "True\n",
      "True\n",
      "False\n",
      "1\n",
      "4\n"
     ]
    }
   ],
   "source": [
    "rektangel = Rectangle(x=0,y=0,length=1, width=1)\n",
    "rektange2 = Rectangle(x=1,y=1, length=1, width=1)\n",
    "\n",
    "print(repr(rektangel))\n",
    "print(repr(rektange2))\n",
    "\n",
    "print(rektangel==rektange2)\n",
    "print(rektangel.inside_rectangle(0.5,0.5))\n",
    "rektangel.translate(5,5)\n",
    "print(rektangel.inside_rectangle(0.5,0.5))\n",
    "print(rektangel.getArea())\n",
    "print(rektangel.getPerimeter())"
   ]
  },
  {
   "cell_type": "code",
   "execution_count": null,
   "metadata": {},
   "outputs": [
    {
     "name": "stdout",
     "output_type": "stream",
     "text": [
      "The geometric shape has its center at (0,0) with a length: 1, a width of: 1 and a height of: 1 \n",
      "The geometric shape has its center at (1,1) with a length: 1, a width of: 1 and a height of: 1 \n",
      "True\n",
      "True\n",
      "False\n",
      "False\n",
      "6\n",
      "1\n"
     ]
    }
   ],
   "source": [
    "cube1 = Cube(x=0, y=0, z=0, length=1, width=1, height=1)\n",
    "cube2 = Cube(x=1, y=1, z=1, length=1, width=1, height=1)\n",
    "\n",
    "print(repr(cube1))\n",
    "print(repr(cube2))\n",
    "\n",
    "print(cube1==cube2)\n",
    "print(cube1.inside_cube(0.5, 0.5, 0.5))\n",
    "print(cube1.inside_cube(1, 1, 1))\n",
    "cube1.translate(2,2,2)\n",
    "print(cube1.inside_cube(0.5, 0.5, 0.5))\n",
    "print(cube1.surface_area())\n",
    "print(cube1.volume())\n"
   ]
  },
  {
   "cell_type": "code",
   "execution_count": null,
   "metadata": {},
   "outputs": [
    {
     "name": "stdout",
     "output_type": "stream",
     "text": [
      "The geometric shape has its center at (0,0)  with a radius: 2\n",
      "The geometric shape has its center at (1,1)  with a radius: 2\n",
      "True\n",
      "50.26548245743669\n",
      "33.510321638291124\n",
      "True\n",
      "False\n"
     ]
    }
   ],
   "source": [
    "sphere1 = Sphere(x=0,y=0,z=0, radius=2)\n",
    "sphere2 = Sphere(x=1,y=1,z=1, radius=2)\n",
    "\n",
    "print(repr(sphere1))\n",
    "print(repr(sphere2))\n",
    "\n",
    "print(sphere1==sphere2)\n",
    "print(sphere1.surfaceArea())\n",
    "print(sphere1.volume())\n",
    "print(sphere1.inside_sphere(1, 1, 1))\n",
    "sphere1.translate(3,3,3)\n",
    "print(sphere1.inside_sphere(1, 1, 1))"
   ]
  }
 ],
 "metadata": {
  "kernelspec": {
   "display_name": "Python 3.9.13 64-bit",
   "language": "python",
   "name": "python3"
  },
  "language_info": {
   "codemirror_mode": {
    "name": "ipython",
    "version": 3
   },
   "file_extension": ".py",
   "mimetype": "text/x-python",
   "name": "python",
   "nbconvert_exporter": "python",
   "pygments_lexer": "ipython3",
   "version": "3.9.13"
  },
  "orig_nbformat": 4,
  "vscode": {
   "interpreter": {
    "hash": "588d5def40dfdb8a9be623189245e02bbfcf8922182859b9395601ff8c0768a1"
   }
  }
 },
 "nbformat": 4,
 "nbformat_minor": 2
}
